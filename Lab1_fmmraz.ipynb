{
  "nbformat": 4,
  "nbformat_minor": 0,
  "metadata": {
    "colab": {
      "provenance": [],
      "authorship_tag": "ABX9TyNEOGmaxNGMtR0CEfjhslzV",
      "include_colab_link": true
    },
    "kernelspec": {
      "name": "python3",
      "display_name": "Python 3"
    },
    "language_info": {
      "name": "python"
    }
  },
  "cells": [
    {
      "cell_type": "markdown",
      "metadata": {
        "id": "view-in-github",
        "colab_type": "text"
      },
      "source": [
        "<a href=\"https://colab.research.google.com/github/PolyanskayaP/FMMRAZ_6sem/blob/main/Lab1_fmmraz.ipynb\" target=\"_parent\"><img src=\"https://colab.research.google.com/assets/colab-badge.svg\" alt=\"Open In Colab\"/></a>"
      ]
    },
    {
      "cell_type": "markdown",
      "source": [
        "1.\tДля формирования исходных данных сгенерировать случайным образом в пространстве критериев     точек, равномерно распределенных на множестве достижимых векторных оценок, заданном системой ограничений-неравенств \n",
        "\n",
        "n=23\n",
        "\n",
        "![image.png](data:image/png;base64,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)"
      ],
      "metadata": {
        "id": "lUjEQIDjXboa"
      }
    },
    {
      "cell_type": "code",
      "execution_count": 20,
      "metadata": {
        "colab": {
          "base_uri": "https://localhost:8080/"
        },
        "id": "Rcq-6KyM93Qz",
        "outputId": "e7b1ac1d-b0c0-44b3-a7cd-83ec8fd7936c"
      },
      "outputs": [
        {
          "output_type": "execute_result",
          "data": {
            "text/plain": [
              "{21.951595695061926: 28.281610637257813,\n",
              " 45.924852490214406: 23.759941591084573,\n",
              " 16.234928212649493: 35.10142167338341,\n",
              " 22.158540486617802: 33.011068396330764,\n",
              " 27.073066327951924: 22.703752653779173}"
            ]
          },
          "metadata": {},
          "execution_count": 20
        }
      ],
      "source": [
        "from random import uniform\n",
        "import numpy as np\n",
        "\n",
        "NACH=11.5\n",
        "KON=46\n",
        "KOLVO=5\n",
        "\n",
        "def get_odz(f1):\n",
        "    f2=[]\n",
        "    yverh, yniz = 0, 0\n",
        "    f1sq = 11.5*np.sqrt(2) + 23\n",
        "    if (f1 >= 11.5) and (f1 <= 23):\n",
        "        yverh=23+f1\n",
        "        yniz=46-f1\n",
        "    elif (f1 > 23) and (f1 <= f1sq):\n",
        "        yverh=np.sqrt((23**2 - (f1-23)**2)) + 23\n",
        "        yniz=46-f1\n",
        "    elif (f1 > f1sq) and (f1 <= 46):\n",
        "        yverh=np.sqrt((23**2 - (f1-23)**2)) + 23\n",
        "        yniz= - np.sqrt((23**2 - (f1-23)**2)) + 23\n",
        "    f2.append(yniz)\n",
        "    f2.append(yverh)\n",
        "    return(f2)\n",
        "\n",
        "def gener_f1_f2(nach, kon, kolvo):\n",
        "    f1_ar = np.random.uniform(nach, kon, kolvo)  #сгенерировали массив иксов\n",
        "    f2_ar = []\n",
        "    for f1 in f1_ar:\n",
        "        na, ko = get_odz(f1)\n",
        "        f2 = uniform(na, ko)\n",
        "        f2_ar.append(f2) \n",
        "    dictionary = dict(zip(f1_ar, f2_ar))\n",
        "    return(dictionary)\n",
        "\n",
        "gener_f1_f2(NACH, KON, KOLVO)"
      ]
    }
  ]
}